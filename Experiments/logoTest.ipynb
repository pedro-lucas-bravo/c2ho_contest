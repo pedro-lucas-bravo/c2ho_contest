{
 "cells": [
  {
   "cell_type": "code",
   "execution_count": 60,
   "id": "9687229c",
   "metadata": {},
   "outputs": [],
   "source": [
    "%matplotlib inline\n",
    "import matplotlib.pyplot as plt\n",
    "import numpy as np\n",
    "import IPython.display as ipd \n",
    "import math\n"
   ]
  },
  {
   "cell_type": "code",
   "execution_count": 89,
   "id": "faddebc3",
   "metadata": {},
   "outputs": [
    {
     "data": {
      "image/svg+xml": [
       "<svg xmlns=\"http://www.w3.org/2000/svg\" xmlns:xlink=\"http://www.w3.org/1999/xlink\" id=\"image\" width=\"480px\" height=\"270px\"><rect x=\"0\" y=\"0\" width=\"100%\" height=\"100%\" style=\"fill:gray\"/> \n",
       "<circle cx=\"50%\" cy=\"50%\" r=\"1%\" stroke=\"black\" stroke-width=\"0\" fill=\"blue\"/><text x=\"12.5%\" y=\"50%\" font-size=\"4em\" fill=\"red\" text-anchor=\"middle\" alignment-baseline=\"central\" font-family=\"sans-serif\" font-weight=\"bold\">H</text><text x=\"37.5%\" y=\"50%\" font-size=\"4em\" fill=\"red\" text-anchor=\"middle\" alignment-baseline=\"central\" font-family=\"sans-serif\" font-weight=\"bold\">C</text><text x=\"62.5%\" y=\"50%\" font-size=\"4em\" fill=\"red\" text-anchor=\"middle\" alignment-baseline=\"central\" font-family=\"sans-serif\" font-weight=\"bold\">C</text><text x=\"87.5%\" y=\"50%\" font-size=\"4em\" fill=\"red\" text-anchor=\"middle\" alignment-baseline=\"central\" font-family=\"sans-serif\" font-weight=\"bold\">O</text><line x1=\"19.0%\" y1=\"50%\" x2=\"31.0%\" y2=\"50%\" style=\"stroke:rgb(255,0,0);stroke-width:2\"/><line x1=\"44.0%\" y1=\"50%\" x2=\"56.0%\" y2=\"50%\" style=\"stroke:rgb(255,0,0);stroke-width:2\"/><line x1=\"44.0%\" y1=\"47%\" x2=\"56.0%\" y2=\"47%\" style=\"stroke:rgb(255,0,0);stroke-width:2\"/><line x1=\"44.0%\" y1=\"53%\" x2=\"56.0%\" y2=\"53%\" style=\"stroke:rgb(255,0,0);stroke-width:2\"/><line x1=\"69.0%\" y1=\"50%\" x2=\"81.0%\" y2=\"50%\" style=\"stroke:rgb(255,0,0);stroke-width:2\"/><circle cx=\"87.5%\" cy=\"50%\" r=\"1%\" stroke=\"black\" stroke-width=\"0\" fill=\"blue\"/><circle cx=\"85.5%\" cy=\"38%\" r=\"1%\" stroke=\"black\" stroke-width=\"0\" fill=\"blue\"/><circle cx=\"89.5%\" cy=\"38%\" r=\"1%\" stroke=\"black\" stroke-width=\"0\" fill=\"blue\"/><circle cx=\"85.5%\" cy=\"62%\" r=\"1%\" stroke=\"black\" stroke-width=\"0\" fill=\"blue\"/><circle cx=\"89.5%\" cy=\"62%\" r=\"1%\" stroke=\"black\" stroke-width=\"0\" fill=\"blue\"/><circle cx=\"93.5%\" cy=\"50%\" r=\"1%\" stroke=\"black\" stroke-width=\"0\" fill=\"blue\"/><path d=\"M120.0 81.0 L230.4 121.5 L230.4 148.5 L120.0 189.0\" stroke=\"green\" stroke-width=\"3\" fill=\"none\"/><path d=\"M360.0 81.0 L249.6 121.5 L249.6 148.5 L360.0 189.0\" stroke=\"green\" stroke-width=\"3\" fill=\"none\"/><path d=\"M120.0 135.0 L360.0 135.0\" stroke=\"green\" stroke-width=\"3\" fill=\"none\"/><circle cx=\"50%\" cy=\"50%\" r=\"10%\" stroke=\"black\" stroke-width=\"3\" fill=\"none\"/><circle cx=\"50%\" cy=\"50%\" r=\"37.5\" stroke=\"red\" stroke-width=\"3\" fill=\"none\"/><circle cx=\"208.18019484660536\" cy=\"103.18019484660536\" r=\"0.25%\" stroke=\"black\" stroke-width=\"3\" fill=\"none\"/><circle cx=\"214.18906036420293\" cy=\"98.13815800699538\" r=\"0.25%\" stroke=\"black\" stroke-width=\"3\" fill=\"none\"/><circle cx=\"220.98217822166853\" cy=\"94.21614958335076\" r=\"0.25%\" stroke=\"black\" stroke-width=\"3\" fill=\"none\"/><circle cx=\"228.35314297038656\" cy=\"91.53333781699192\" r=\"0.25%\" stroke=\"black\" stroke-width=\"3\" fill=\"none\"/><circle cx=\"236.0779915763554\" cy=\"90.17123858587145\" r=\"0.25%\" stroke=\"black\" stroke-width=\"3\" fill=\"none\"/><circle cx=\"243.92200842364463\" cy=\"90.17123858587145\" r=\"0.25%\" stroke=\"black\" stroke-width=\"3\" fill=\"none\"/><circle cx=\"251.64685702961344\" cy=\"91.53333781699192\" r=\"0.25%\" stroke=\"black\" stroke-width=\"3\" fill=\"none\"/><circle cx=\"259.0178217783315\" cy=\"94.21614958335076\" r=\"0.25%\" stroke=\"black\" stroke-width=\"3\" fill=\"none\"/><circle cx=\"265.81093963579707\" cy=\"98.13815800699537\" r=\"0.25%\" stroke=\"black\" stroke-width=\"3\" fill=\"none\"/><circle cx=\"271.81980515339467\" cy=\"103.18019484660536\" r=\"0.25%\" stroke=\"black\" stroke-width=\"3\" fill=\"none\"/></svg>"
      ],
      "text/plain": [
       "<IPython.core.display.SVG object>"
      ]
     },
     "metadata": {},
     "output_type": "display_data"
    }
   ],
   "source": [
    "width = 480\n",
    "height = 270\n",
    "\n",
    "#SVG starting construction\n",
    "\n",
    "SVG = '<?xml version=\"1.0\" encoding=\"utf-8\"?>\\n'\n",
    "SVG += '<!DOCTYPE svg PUBLIC \"-//W3C//DTD SVG 1.1//EN\" \"http://www.w3.org/Graphics/SVG/1.1/DTD/svg11.dtd\">\\n'\n",
    "SVG += f'<svg id=\"image\" width=\"{width}px\" height=\"{height}px\" xmlns=\"http://www.w3.org/2000/svg\" xmlns:xlink=\"http://www.w3.org/1999/xlink\">'\n",
    "\n",
    "SVG += '<rect x=\"0\" y=\"0\" width=\"100%\" height=\"100%\" style=\"fill:gray\" /> \\n'\n",
    "\n",
    "#center circle\n",
    "SVG += '<circle cx=\"50%\" cy=\"50%\" r=\"1%\" stroke=\"black\" stroke-width=\"0\" fill=\"blue\" />'\n",
    "\n",
    "#************C2HO text \n",
    "\n",
    "textOffset_x = 12.5\n",
    "textStep_x = 100*0.25\n",
    "text = ['H', 'C', 'C', 'O']\n",
    "for i in range(4):\n",
    "    SVG += '<text x=\"'+ str(textOffset_x + i * textStep_x) +'%\" y=\"50%\" font-size=\"4em\" fill=\"red\" text-anchor=\"middle\" alignment-baseline=\"central\" font-family=\"sans-serif\" font-weight=\"bold\">'+text[i]+'</text>'\n",
    "    #SVG += '  <rect id=\"BG\" width=\"100%\" height=\"100%\" fill=\"url(#BG-grad2)\" style=\"mix-blend-mode: screen;\" opacity=\"1\" />\\n\\n'\n",
    "\n",
    "#Lines\n",
    "lineOffset = 19\n",
    "lineLenght = 12\n",
    "lineHeight = 3\n",
    "SVG += '<line x1=\"'+ str(lineOffset + 0 * textStep_x) +'%\" y1=\"50%\" x2=\"'+ str(lineOffset + 0 * textStep_x + lineLenght) +'%\" y2=\"50%\" style=\"stroke:rgb(255,0,0);stroke-width:2\" />'\n",
    "SVG += '<line x1=\"'+ str(lineOffset + 1 * textStep_x) +'%\" y1=\"50%\" x2=\"'+ str(lineOffset + 1 * textStep_x + lineLenght) +'%\" y2=\"50%\" style=\"stroke:rgb(255,0,0);stroke-width:2\" />'\n",
    "SVG += '<line x1=\"'+ str(lineOffset + 1 * textStep_x) +'%\" y1=\"' + str(50 - lineHeight) + '%\" x2=\"'+ str(lineOffset + 1 * textStep_x + lineLenght) +'%\" y2=\"' + str(50 - lineHeight) + '%\" style=\"stroke:rgb(255,0,0);stroke-width:2\" />'\n",
    "SVG += '<line x1=\"'+ str(lineOffset + 1 * textStep_x) +'%\" y1=\"' + str(50 + lineHeight) + '%\" x2=\"'+ str(lineOffset + 1 * textStep_x + lineLenght) +'%\" y2=\"' + str(50 + lineHeight) + '%\" style=\"stroke:rgb(255,0,0);stroke-width:2\" />'\n",
    "SVG += '<line x1=\"'+ str(lineOffset + 2 * textStep_x) +'%\" y1=\"50%\" x2=\"'+ str(lineOffset + 2 * textStep_x + lineLenght) +'%\" y2=\"50%\" style=\"stroke:rgb(255,0,0);stroke-width:2\" />'\n",
    "\n",
    "#Circles in O\n",
    "#--Center in O for guidance\n",
    "centerRef_circles = textOffset_x + 3 * textStep_x\n",
    "SVG += '<circle cx=\"'+ str(centerRef_circles) +'%\" cy=\"50%\" r=\"1%\" stroke=\"black\" stroke-width=\"0\" fill=\"blue\" />'\n",
    "\n",
    "sep_x_circles = 2\n",
    "offset_y_circles = 12\n",
    "dirs_circles = [[-1, -1], [1, -1], [-1, 1], [1, 1]]\n",
    "for i in range(4):\n",
    "    SVG += '<circle cx=\"'+ str(centerRef_circles + dirs_circles[i][0] * sep_x_circles) +'%\" cy=\"' + str(50 + dirs_circles[i][1] * offset_y_circles) + '%\" r=\"1%\" stroke=\"black\" stroke-width=\"0\" fill=\"blue\" />'\n",
    "SVG += '<circle cx=\"'+ str(centerRef_circles + sep_x_circles * 3) +'%\" cy=\"50%\" r=\"1%\" stroke=\"black\" stroke-width=\"0\" fill=\"blue\" />'\n",
    "\n",
    "\n",
    "#************ C2HO Logo *************\n",
    "def perc2pixels_x(perc):\n",
    "    return str(width *perc /100);\n",
    "\n",
    "def perc2pixels_y(perc):\n",
    "    return str(height *perc /100);\n",
    "\n",
    "def avg_perc(perc):\n",
    "    return (float(perc2pixels_x(perc)) + float(perc2pixels_y(perc))) * 0.5\n",
    "    \n",
    "#************paths\n",
    "side_x = 25\n",
    "side_y = 30\n",
    "middle_x = 48\n",
    "middle_y = 45\n",
    "#path left\n",
    "SVG += ('<path d=\"M'+perc2pixels_x(side_x)+' '+perc2pixels_y(side_y)+' L'+perc2pixels_x(middle_x)+' '+perc2pixels_y(middle_y) +\n",
    "        ' L' + perc2pixels_x(middle_x) + ' '+perc2pixels_y( 100 - middle_y) + ' L' + perc2pixels_x(side_x) + ' '+perc2pixels_y(100 -side_y) +\n",
    "        '\" stroke=\"green\" stroke-width=\"3\" fill=\"none\"/>')\n",
    "#path right\n",
    "SVG += ('<path d=\"M'+perc2pixels_x(100 - side_x)+' '+perc2pixels_y(side_y)+' L'+perc2pixels_x(100 - middle_x)+' '+perc2pixels_y(middle_y) +\n",
    "        ' L' + perc2pixels_x(100 - middle_x) + ' '+perc2pixels_y( 100 - middle_y) + ' L' + perc2pixels_x(100 - side_x) + ' '+perc2pixels_y(100 -side_y) +\n",
    "        '\" stroke=\"green\" stroke-width=\"3\" fill=\"none\"/>')\n",
    "\n",
    "#path middle\n",
    "SVG += ('<path d=\"M'+perc2pixels_x(side_x)+' '+perc2pixels_y(50)+' L'+perc2pixels_x(100 - side_x)+' '+perc2pixels_y(50) +\n",
    "        '\" stroke=\"green\" stroke-width=\"3\" fill=\"none\"/>')\n",
    "\n",
    "#Circle tower\n",
    "SVG += '<circle cx=\"50%\" cy=\"50%\" r=\"10%\" stroke=\"black\" stroke-width=\"3\" fill=\"none\" />'\n",
    "\n",
    "SVG += '<circle cx=\"50%\" cy=\"50%\" r=\"'+str(avg_perc(10))+'\" stroke=\"red\" stroke-width=\"3\" fill=\"none\" />'\n",
    "\n",
    "#OSLO logo\n",
    "#SVG +=  '<path class=\"SamplePath\" d=\"M100,200 C100,100 250,100 250,200\" stroke=\"black\" stroke-width=\"3\" fill=\"none\" />'\n",
    "n_points = 10\n",
    "ra = avg_perc(12)\n",
    "arc_degree = 90\n",
    "step = math.radians(arc_degree) / (n_points - 1)\n",
    "start_degree = -135\n",
    "for i in range(n_points):\n",
    "    cx = float(perc2pixels_x(50)) + ra * math.cos(math.radians(start_degree) + i * step)\n",
    "    cy = float(perc2pixels_y(50)) + ra * math.sin(math.radians(start_degree) + i * step)\n",
    "    SVG += '<circle cx=\"'+str(cx)+'\" cy=\"'+str(cy)+'\" r=\"0.25%\" stroke=\"black\" stroke-width=\"3\" fill=\"none\" />'\n",
    "\n",
    "#SVG += ('<path d=\"M'+perc2pixels_x(side_x)+' '+perc2pixels_y(50)+\n",
    "#        ' L'+perc2pixels_x(100 - side_x)+' '+perc2pixels_y(50) +\n",
    "#        '\" stroke=\"green\" stroke-width=\"3\" fill=\"none\"/>')\n",
    "\n",
    "\n",
    "SVG += '</svg>\\n'\n",
    "\n",
    "ipd.display(ipd.SVG(SVG))"
   ]
  },
  {
   "cell_type": "code",
   "execution_count": null,
   "id": "5ef0d083",
   "metadata": {},
   "outputs": [],
   "source": []
  },
  {
   "cell_type": "code",
   "execution_count": null,
   "id": "9f11a496",
   "metadata": {},
   "outputs": [],
   "source": []
  },
  {
   "cell_type": "code",
   "execution_count": 3,
   "id": "fa0afbc9",
   "metadata": {},
   "outputs": [
    {
     "name": "stdout",
     "output_type": "stream",
     "text": [
      "<?xml version=\"1.0\" encoding=\"utf-8\"?>\n",
      "<!DOCTYPE svg PUBLIC \"-//W3C//DTD SVG 1.1//EN\" \"http://www.w3.org/Graphics/SVG/1.1/DTD/svg11.dtd\">\n",
      "<svg id=\"image\" width=\"480px\" height=\"270px\" xmlns=\"http://www.w3.org/2000/svg\" xmlns:xlink=\"http://www.w3.org/1999/xlink\"><rect x=\"0\" y=\"0\" width=\"100%\" height=\"100%\" style=\"fill:gray\" /> \n",
      "<circle cx=\"50%\" cy=\"50%\" r=\"1%\" stroke=\"black\" stroke-width=\"0\" fill=\"blue\" /><text x=\"12.5%\" y=\"50%\" font-size=\"4em\" fill=\"red\" text-anchor=\"middle\" alignment-baseline=\"central\" font-family=\"sans-serif\" font-weight=\"bold\">H</text><text x=\"37.5%\" y=\"50%\" font-size=\"4em\" fill=\"red\" text-anchor=\"middle\" alignment-baseline=\"central\" font-family=\"sans-serif\" font-weight=\"bold\">C</text><text x=\"62.5%\" y=\"50%\" font-size=\"4em\" fill=\"red\" text-anchor=\"middle\" alignment-baseline=\"central\" font-family=\"sans-serif\" font-weight=\"bold\">C</text><text x=\"87.5%\" y=\"50%\" font-size=\"4em\" fill=\"red\" text-anchor=\"middle\" alignment-baseline=\"central\" font-family=\"sans-serif\" font-weight=\"bold\">O</text><line x1=\"19.0%\" y1=\"50%\" x2=\"31.0%\" y2=\"50%\" style=\"stroke:rgb(255,0,0);stroke-width:2\" /><line x1=\"44.0%\" y1=\"50%\" x2=\"56.0%\" y2=\"50%\" style=\"stroke:rgb(255,0,0);stroke-width:2\" /><line x1=\"44.0%\" y1=\"47%\" x2=\"56.0%\" y2=\"47%\" style=\"stroke:rgb(255,0,0);stroke-width:2\" /><line x1=\"44.0%\" y1=\"53%\" x2=\"56.0%\" y2=\"53%\" style=\"stroke:rgb(255,0,0);stroke-width:2\" /><line x1=\"69.0%\" y1=\"50%\" x2=\"81.0%\" y2=\"50%\" style=\"stroke:rgb(255,0,0);stroke-width:2\" /><circle cx=\"87.5%\" cy=\"50%\" r=\"1%\" stroke=\"black\" stroke-width=\"0\" fill=\"blue\" /><circle cx=\"85.5%\" cy=\"38%\" r=\"1%\" stroke=\"black\" stroke-width=\"0\" fill=\"blue\" /><circle cx=\"89.5%\" cy=\"38%\" r=\"1%\" stroke=\"black\" stroke-width=\"0\" fill=\"blue\" /><circle cx=\"85.5%\" cy=\"62%\" r=\"1%\" stroke=\"black\" stroke-width=\"0\" fill=\"blue\" /><circle cx=\"89.5%\" cy=\"62%\" r=\"1%\" stroke=\"black\" stroke-width=\"0\" fill=\"blue\" /><circle cx=\"93.5%\" cy=\"50%\" r=\"1%\" stroke=\"black\" stroke-width=\"0\" fill=\"blue\" /><path d=\"M240.5 50 L260 50\" stroke=\"green\" stroke-width=\"3\" fill=\"none\"/></svg>\n",
      "\n"
     ]
    }
   ],
   "source": [
    "print(SVG)"
   ]
  },
  {
   "cell_type": "code",
   "execution_count": 4,
   "id": "52f2c3af",
   "metadata": {},
   "outputs": [
    {
     "data": {
      "image/svg+xml": [
       "<svg xmlns=\"http://www.w3.org/2000/svg\" xmlns:xlink=\"http://www.w3.org/1999/xlink\" id=\"image\" width=\"480px\" height=\"270px\"><rect x=\"0\" y=\"0\" width=\"100%\" height=\"100%\" style=\"fill:gray\"/> \n",
       "<circle cx=\"50%\" cy=\"50%\" r=\"1%\" stroke=\"black\" stroke-width=\"0\" fill=\"blue\"/><text x=\"12.5%\" y=\"50%\" font-size=\"4em\" fill=\"red\" text-anchor=\"middle\" alignment-baseline=\"central\" font-family=\"sans-serif\" font-weight=\"bold\">H</text><text x=\"37.5%\" y=\"50%\" font-size=\"4em\" fill=\"red\" text-anchor=\"middle\" alignment-baseline=\"central\" font-family=\"sans-serif\" font-weight=\"bold\">C</text><text x=\"62.5%\" y=\"50%\" font-size=\"4em\" fill=\"red\" text-anchor=\"middle\" alignment-baseline=\"central\" font-family=\"sans-serif\" font-weight=\"bold\">C</text><text x=\"87.5%\" y=\"50%\" font-size=\"4em\" fill=\"red\" text-anchor=\"middle\" alignment-baseline=\"central\" font-family=\"sans-serif\" font-weight=\"bold\">O</text><line x1=\"19.0%\" y1=\"50%\" x2=\"31.0%\" y2=\"50%\" style=\"stroke:rgb(255,0,0);stroke-width:2\"/><line x1=\"44.0%\" y1=\"50%\" x2=\"56.0%\" y2=\"50%\" style=\"stroke:rgb(255,0,0);stroke-width:2\"/><line x1=\"44.0%\" y1=\"47%\" x2=\"56.0%\" y2=\"47%\" style=\"stroke:rgb(255,0,0);stroke-width:2\"/><line x1=\"44.0%\" y1=\"53%\" x2=\"56.0%\" y2=\"53%\" style=\"stroke:rgb(255,0,0);stroke-width:2\"/><line x1=\"69.0%\" y1=\"50%\" x2=\"81.0%\" y2=\"50%\" style=\"stroke:rgb(255,0,0);stroke-width:2\"/><circle cx=\"87.5%\" cy=\"50%\" r=\"1%\" stroke=\"black\" stroke-width=\"0\" fill=\"blue\"/><circle cx=\"85.5%\" cy=\"38%\" r=\"1%\" stroke=\"black\" stroke-width=\"0\" fill=\"blue\"/><circle cx=\"89.5%\" cy=\"38%\" r=\"1%\" stroke=\"black\" stroke-width=\"0\" fill=\"blue\"/><circle cx=\"85.5%\" cy=\"62%\" r=\"1%\" stroke=\"black\" stroke-width=\"0\" fill=\"blue\"/><circle cx=\"89.5%\" cy=\"62%\" r=\"1%\" stroke=\"black\" stroke-width=\"0\" fill=\"blue\"/><circle cx=\"93.5%\" cy=\"50%\" r=\"1%\" stroke=\"black\" stroke-width=\"0\" fill=\"blue\"/><path d=\"M240.5 50 L260 50\" stroke=\"green\" stroke-width=\"3\" fill=\"none\"/></svg>"
      ],
      "text/plain": [
       "<IPython.core.display.SVG object>"
      ]
     },
     "metadata": {},
     "output_type": "display_data"
    }
   ],
   "source": [
    "ipd.display(ipd.SVG(SVG))"
   ]
  }
 ],
 "metadata": {
  "kernelspec": {
   "display_name": "Python 3 (ipykernel)",
   "language": "python",
   "name": "python3"
  },
  "language_info": {
   "codemirror_mode": {
    "name": "ipython",
    "version": 3
   },
   "file_extension": ".py",
   "mimetype": "text/x-python",
   "name": "python",
   "nbconvert_exporter": "python",
   "pygments_lexer": "ipython3",
   "version": "3.9.12"
  }
 },
 "nbformat": 4,
 "nbformat_minor": 5
}
